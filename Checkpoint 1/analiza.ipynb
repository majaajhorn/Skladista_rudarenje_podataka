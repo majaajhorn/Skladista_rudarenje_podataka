{
 "cells": [
  {
   "cell_type": "code",
   "execution_count": null,
   "metadata": {},
   "outputs": [],
   "source": [
    "import pandas as pd\n",
    "\n",
    "# učitavanje podataka iz CSV datoteke\n",
    "PATH = \"order_history_kaggle_data.csv\"\n",
    "\n",
    "# učitavanje svih podataka\n",
    "data = pd.read_csv(PATH, delimiter=',')\n",
    "\n",
    "# ispis dimenzija skupa podataka (broj redaka i stupaca)\n",
    "print(\"\\nDimenzije skupa podataka (broj redaka i stupaca):\")\n",
    "print(data.shape)\n",
    "\n",
    "# ispis imena stupaca\n",
    "print(\"\\nNazivi stupaca:\")\n",
    "print(data.columns.values)\n",
    "\n",
    "# ispis broja nedostajućih vrijednosi po stupcu\n",
    "print(\"\\nNedostajuće vrijednosti po stupcu:\")\n",
    "print(data.isna().sum())\n",
    "\n",
    "# ispis broja jedinstvenih vrijednosti po stupcima\n",
    "print(\"\\nBroj jedinstvenih vrijednosti po stupcima:\")\n",
    "print(data.nunique())\n",
    "\n",
    "# ispis tipova podataka po stupcima (analiza kvantitativnih i kvalitativnih varijabli)\n",
    "print(\"\\nTipovi podataka po stupcima:\")\n",
    "print(data.dtypes)\n",
    "\n",
    "# ispis frekvencije vrijednosti po stupcima (prvih 5 stupaca za preglednost)\n",
    "print(\"\\nFrekvencija vrijednosti po stupcima:\")\n",
    "for column in data.columns[:5]:  # Prikazujemo samo prvih 5 stupaca\n",
    "    print(f\"\\nStupac: {column}\")\n",
    "    print(data[column].value_counts().head(10))  # Prvih 10 najčešćih vrijednosti\n"
   ]
  },
  {
   "cell_type": "markdown",
   "metadata": {},
   "source": [
    "# Pitanja:\n",
    "\n",
    "### 1) Je li je skup podataka dovoljno velik? (Optimalno >15 000 redaka i >20 stupaca)\n",
    "\n",
    "Da. Skup podataka sadrži 21321 redaka i 29 stupaca.\n",
    "\n",
    "### 2) Je li skup ima dovoljno različite podatke?\n",
    "\n",
    "Neki stupci imaju malo jedinstvenih vrijednosti, a neki imaju više. Odgovor je Da.\n",
    "\n",
    "### 3) Je li skup ima vremensku dimenziju?\n",
    "\n",
    "Stupac \"Order Placed At\" sadrži informacije o vremenu narudžbe, što ukazuje na prisutnost vremenske dimenzije.\n",
    "\n",
    "### 4) Je li skup ima kvantitativne i kvalitativne podatke?\n",
    "\n",
    "Da. \n",
    "\n",
    "Kvantitativni podaci su: numerički stupci (\"Bill subtotal, Packaging charges, Restaurant discount(Promo), Total\"). \n",
    "\n",
    "Kvalitativni podaci su: kategorijski stupci (\"Restaurant name, Subzone, City, Order Status\").\n",
    "\n",
    "### 5) Je li skup ima puno nedostajućih vrijednosti?\n",
    "\n",
    "Neki stupci imaju više, a neki manje. Skup podataka ima značajan broj nedostajućih vrijednosti u određenim stupcima.\n",
    "\n"
   ]
  }
 ],
 "metadata": {
  "kernelspec": {
   "display_name": "Python 3",
   "language": "python",
   "name": "python3"
  },
  "language_info": {
   "codemirror_mode": {
    "name": "ipython",
    "version": 3
   },
   "file_extension": ".py",
   "mimetype": "text/x-python",
   "name": "python",
   "nbconvert_exporter": "python",
   "pygments_lexer": "ipython3",
   "version": "3.11.4"
  }
 },
 "nbformat": 4,
 "nbformat_minor": 2
}
